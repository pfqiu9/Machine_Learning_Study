{
 "cells": [
  {
   "cell_type": "code",
   "execution_count": 1,
   "metadata": {
    "execution": {
     "iopub.execute_input": "2022-08-26T06:52:52.410765Z",
     "iopub.status.busy": "2022-08-26T06:52:52.410078Z",
     "iopub.status.idle": "2022-08-26T06:52:54.961411Z",
     "shell.execute_reply": "2022-08-26T06:52:54.960001Z",
     "shell.execute_reply.started": "2022-08-26T06:52:52.410726Z"
    },
    "scrolled": true,
    "tags": []
   },
   "outputs": [
    {
     "name": "stdout",
     "output_type": "stream",
     "text": [
      "Looking in indexes: https://pypi.tuna.tsinghua.edu.cn/simple\n",
      "Requirement already satisfied: sklearn in /opt/conda/envs/python35-paddle120-env/lib/python3.7/site-packages (0.0)\n",
      "Requirement already satisfied: scikit-learn in /opt/conda/envs/python35-paddle120-env/lib/python3.7/site-packages (from sklearn) (0.22.1)\n",
      "Requirement already satisfied: joblib>=0.11 in /opt/conda/envs/python35-paddle120-env/lib/python3.7/site-packages (from scikit-learn->sklearn) (0.14.1)\n",
      "Requirement already satisfied: numpy>=1.11.0 in /opt/conda/envs/python35-paddle120-env/lib/python3.7/site-packages (from scikit-learn->sklearn) (1.19.5)\n",
      "Requirement already satisfied: scipy>=0.17.0 in /opt/conda/envs/python35-paddle120-env/lib/python3.7/site-packages (from scikit-learn->sklearn) (1.3.0)\n",
      "\n",
      "\u001b[1m[\u001b[0m\u001b[34;49mnotice\u001b[0m\u001b[1;39;49m]\u001b[0m\u001b[39;49m A new release of pip available: \u001b[0m\u001b[31;49m22.1.2\u001b[0m\u001b[39;49m -> \u001b[0m\u001b[32;49m22.2.2\u001b[0m\n",
      "\u001b[1m[\u001b[0m\u001b[34;49mnotice\u001b[0m\u001b[1;39;49m]\u001b[0m\u001b[39;49m To update, run: \u001b[0m\u001b[32;49mpip install --upgrade pip\u001b[0m\n"
     ]
    }
   ],
   "source": [
    "!pip install sklearn"
   ]
  },
  {
   "cell_type": "code",
   "execution_count": 14,
   "metadata": {
    "execution": {
     "iopub.execute_input": "2022-08-26T07:26:12.913297Z",
     "iopub.status.busy": "2022-08-26T07:26:12.911971Z",
     "iopub.status.idle": "2022-08-26T07:26:12.993616Z",
     "shell.execute_reply": "2022-08-26T07:26:12.992211Z",
     "shell.execute_reply.started": "2022-08-26T07:26:12.913258Z"
    },
    "scrolled": true,
    "tags": []
   },
   "outputs": [
    {
     "name": "stdout",
     "output_type": "stream",
     "text": [
      "地区      object\n",
      "x1     float64\n",
      "x2       int64\n",
      "x3       int64\n",
      "x4       int64\n",
      "x5       int64\n",
      "x6       int64\n",
      "x7     float64\n",
      "x8       int64\n",
      "x9     float64\n",
      "x10      int64\n",
      "dtype: object\n",
      "(30, 11)\n",
      "   地区    x1   x2   x3    x4   x5   x6     x7    x8    x9    x10\n",
      "0  北京  5.96  310  461  1557  931  319  44.36  2615  2.20  13631\n",
      "1  上海  3.39  234  308  1035  498  161  35.02  3052  0.90  12665\n",
      "2  天津  2.35  157  229   713  295  109  38.40  3031  0.86   9385\n",
      "3  陕西  1.35   81  111   364  150   58  30.45  2699  1.22   7881\n",
      "4  辽宁  1.50   88  128   421  144   58  34.30  2808  0.54   7733\n",
      "Shape of cluster data: (30, 10)\n",
      "Cluster centers:\n",
      " [[ 0.25707493 -0.47522295 -0.48750453 -0.45523149 -0.31473318 -0.25390194\n",
      "  -2.16447043 -2.18497135  0.12064734  0.54613003]\n",
      " [-0.34475697 -0.28151795 -0.27729182 -0.27854156 -0.28220756 -0.2874227\n",
      "   0.07373591  0.1617021  -0.26118867 -0.28533802]\n",
      " [ 4.44318512  3.9725159   4.16079449  4.20994153  4.61768098  4.65296699\n",
      "   2.45321197  0.4021476   4.22779099  2.44672575]\n",
      " [ 1.52987871  2.10479182  1.97836141  1.92037518  1.54974999  1.50344182\n",
      "   1.13526879  1.13595799  0.83939748  1.38149832]]\n",
      "Cluster results:\n",
      " [2 3 3 1 1 1 1 1 1 1 1 1 1 1 1 1 1 1 1 1 1 1 1 1 0 1 1 0 1 0]\n",
      "\n",
      "聚类分析结果(分为4类):\n",
      "第 0 类：['西藏', '宁夏', '青海']\n",
      "第 1 类：['陕西', '辽宁', '吉林', '黑龙江', '湖北', '江苏', '广东', '四川', '山东', '甘肃', '湖南', '浙江', '新疆', '福建', '山西', '河北', '安徽', '云南', '江西', '海南', '_内蒙古', '河南', '~西', '贵州']\n",
      "第 2 类：['北京']\n",
      "第 3 类：['上海', '天津']\n"
     ]
    }
   ],
   "source": [
    "import numpy as np\n",
    "import pandas as pd\n",
    "from sklearn.cluster import KMeans, MiniBatchKMeans\n",
    "\n",
    "def main():\n",
    "    # 读取数据文件\n",
    "    readPath = \"data/julei.xlsx\"  # 数据文件的地址和文件名\n",
    "    dfFile = pd.read_excel(readPath, header=0)  # 首行为标题行\n",
    "    dfFile = dfFile.dropna() # 删除含有缺失值的数据\n",
    "    print(dfFile.dtypes)  # 查看 df 各列的数据类型\n",
    "    print(dfFile.shape)  # 查看 df 的行数和列数\n",
    "    print(dfFile.head())\n",
    "\n",
    "    # 数据准备\n",
    "    z_scaler = lambda x:(x-np.mean(x))/np.std(x)  # 定义数据标准化函数\n",
    "    dfScaler = dfFile[['x1','x2','x3','x4','x5','x6','x7','x8','x9','x10']].apply(z_scaler)  # 数据归一化\n",
    "    dfData = pd.concat([dfFile[['地区']], dfScaler], axis=1)  # 列级别合并\n",
    "    df = dfData.loc[:,['x1','x2','x3','x4','x5','x6','x7','x8','x9','x10']]  # 基于全部 10个特征聚类分析\n",
    "    # df = dfData.loc[:,['x1','x2','x7','x8','x9','x10']]  # 降维后选取 6个特征聚类分析\n",
    "    X = np.array(df)  # 准备 sklearn.cluster.KMeans 模型数据\n",
    "    print(\"Shape of cluster data:\", X.shape)\n",
    "\n",
    "    # KMeans 聚类分析(sklearn.cluster.KMeans)\n",
    "    nCluster = 4\n",
    "    kmCluster = KMeans(n_clusters=nCluster).fit(X)  # 建立模型并进行聚类，设定 K=2\n",
    "    print(\"Cluster centers:\\n\", kmCluster.cluster_centers_)  # 返回每个聚类中心的坐标\n",
    "    print(\"Cluster results:\\n\", kmCluster.labels_)  # 返回样本集的分类结果\n",
    "\n",
    "    # 整理聚类结果\n",
    "    listName = dfData['地区'].tolist()  # 将 dfData 的首列 '地区' 转换为 listName\n",
    "    dictCluster = dict(zip(listName,kmCluster.labels_))  # 将 listName 与聚类结果关联，组成字典\n",
    "    listCluster = [[] for k in range(nCluster)]\n",
    "    for v in range(0, len(dictCluster)):\n",
    "        k = list(dictCluster.values())[v]  # 第v个城市的分类是 k\n",
    "        listCluster[k].append(list(dictCluster.keys())[v])  # 将第v个城市添加到 第k类\n",
    "    print(\"\\n聚类分析结果(分为{}类):\".format(nCluster))  # 返回样本集的分类结果\n",
    "    for k in range(nCluster):\n",
    "        print(\"第 {} 类：{}\".format(k, listCluster[k]))  # 显示第 k 类的结果\n",
    "\n",
    "    return\n",
    "\n",
    "if __name__ == '__main__':\n",
    "    main()\n",
    "\n"
   ]
  }
 ],
 "metadata": {
  "kernelspec": {
   "display_name": "Python 3",
   "language": "python",
   "name": "py35-paddle1.2.0"
  },
  "language_info": {
   "codemirror_mode": {
    "name": "ipython",
    "version": 3
   },
   "file_extension": ".py",
   "mimetype": "text/x-python",
   "name": "python",
   "nbconvert_exporter": "python",
   "pygments_lexer": "ipython3",
   "version": "3.7.4"
  }
 },
 "nbformat": 4,
 "nbformat_minor": 4
}
